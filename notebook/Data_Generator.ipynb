{
 "cells": [
  {
   "cell_type": "code",
   "execution_count": 35,
   "metadata": {},
   "outputs": [
    {
     "name": "stdout",
     "output_type": "stream",
     "text": [
      "   gender race_ethnicity parental_level_of_education         lunch  \\\n",
      "0  female        group B           bachelor's degree      standard   \n",
      "1  female        group C                some college      standard   \n",
      "2  female        group B             master's degree      standard   \n",
      "3    male        group A          associate's degree  free/reduced   \n",
      "4    male        group C                some college      standard   \n",
      "\n",
      "  test_preparation_course  math_score  reading_score  writing_score  \n",
      "0                    none          72             72             74  \n",
      "1               completed          69             90             88  \n",
      "2                    none          90             95             93  \n",
      "3                    none          47             57             44  \n",
      "4                    none          76             78             75  \n"
     ]
    }
   ],
   "source": [
    "import pandas as pd\n",
    "\n",
    "# Load your dataset\n",
    "df = pd.read_csv('data/stud.csv')\n",
    "# Preview data\n",
    "print(df.head())\n"
   ]
  },
  {
   "cell_type": "code",
   "execution_count": 36,
   "metadata": {},
   "outputs": [],
   "source": [
    "from sklearn.preprocessing import LabelEncoder, MinMaxScaler\n",
    "target_cols = ['math_score', 'reading_score', 'writing_score']\n",
    "X = df.drop(columns=target_cols)\n",
    "y = df[target_cols]\n",
    "\n",
    "# Encode categorical features\n",
    "categorical_cols = ['gender', 'race_ethnicity', 'parental_level_of_education', 'lunch', 'test_preparation_course']\n",
    "encoders = {col: LabelEncoder() for col in categorical_cols}\n",
    "\n",
    "for col in categorical_cols:\n",
    "    X[col] = encoders[col].fit_transform(X[col])\n",
    "\n",
    "# Scale numeric features (targets)\n",
    "scaler = MinMaxScaler()\n",
    "y = pd.DataFrame(scaler.fit_transform(y), columns=target_cols)"
   ]
  },
  {
   "cell_type": "code",
   "execution_count": 37,
   "metadata": {},
   "outputs": [
    {
     "name": "stderr",
     "output_type": "stream",
     "text": [
      "Fitting CTGAN transformers for each column: 100%|██████████| 6/6 [00:00<00:00, 106.52it/s]\n",
      "Training CTGAN, epochs::  24%|██▍       | 239/1000 [00:16<00:52, 14.62it/s]\n",
      "Fitting CTGAN transformers for each column: 100%|██████████| 6/6 [00:00<00:00, 117.76it/s]\n",
      "Training CTGAN, epochs::  35%|███▌      | 350/1000 [00:23<00:43, 15.08it/s]\n",
      "Fitting CTGAN transformers for each column: 100%|██████████| 6/6 [00:00<00:00, 117.59it/s]\n",
      "Training CTGAN, epochs::  35%|███▍      | 348/1000 [00:23<00:43, 15.02it/s]\n"
     ]
    },
    {
     "name": "stdout",
     "output_type": "stream",
     "text": [
      "   gender  race_ethnicity  parental_level_of_education  lunch  \\\n",
      "0       1               4                            2      0   \n",
      "1       1               4                            2      0   \n",
      "2       1               4                            2      0   \n",
      "3       1               4                            2      0   \n",
      "4       1               4                            2      0   \n",
      "\n",
      "   test_preparation_course  math_score  reading_score  writing_score  \n",
      "0                        0    0.369426       0.762250       0.514766  \n",
      "1                        0    0.277593       0.642882       0.612392  \n",
      "2                        0    0.489613       0.556259       0.509706  \n",
      "3                        0    0.568839       0.918147       0.473063  \n",
      "4                        0    0.554555       0.516830       0.438481  \n"
     ]
    }
   ],
   "source": [
    "from tabgan.sampler import GANGenerator\n",
    "import pandas as pd\n",
    "\n",
    "synthetic_data_list = []  # To store synthetic data for each target column\n",
    "\n",
    "# Iterate over each target column\n",
    "for target_col in y.columns:\n",
    "    new_X, new_y = GANGenerator(\n",
    "        gen_x_times=10,  # Generate 10 times more data\n",
    "        cat_cols=categorical_cols,  # Categorical columns\n",
    "        bot_filter_quantile=0.001,\n",
    "        top_filter_quantile=0.999,\n",
    "        is_post_process=True,\n",
    "        gen_params={\"batch_size\": 50, \"epochs\": 1000, \"patience\": 50},  # GAN training parameters\n",
    "    ).generate_data_pipe(train_df=X, target=y[[target_col]], test_df=X)  # Pass target as a DataFrame\n",
    "\n",
    "    # Combine the generated features and target for this specific target column\n",
    "    synthetic_data = pd.concat([new_X, new_y], axis=1)\n",
    "    synthetic_data.columns = list(X.columns) + [target_col]  # Rename columns\n",
    "\n",
    "    # Append to the list\n",
    "    synthetic_data_list.append(synthetic_data)\n",
    "\n",
    "# Merge synthetic data for all target columns\n",
    "final_synthetic_data = synthetic_data_list[0]  # Start with the first DataFrame\n",
    "for i in range(1, len(synthetic_data_list)):\n",
    "    final_synthetic_data = final_synthetic_data.merge(\n",
    "        synthetic_data_list[i][[target_cols[i]]],\n",
    "        left_index=True,\n",
    "        right_index=True\n",
    "    )\n",
    "\n",
    "# Display or save final synthetic data\n",
    "print(final_synthetic_data.head())\n"
   ]
  },
  {
   "cell_type": "code",
   "execution_count": 52,
   "metadata": {},
   "outputs": [],
   "source": [
    "# Inverse transform target columns (scaled back to original range)\n",
    "final_synthetic_data[target_cols] = scaler.inverse_transform(final_synthetic_data[target_cols])\n"
   ]
  },
  {
   "cell_type": "code",
   "execution_count": 43,
   "metadata": {},
   "outputs": [
    {
     "name": "stdout",
     "output_type": "stream",
     "text": [
      "gender                                                            [male, female]\n",
      "race_ethnicity                     [group E, group D, group B, group A, group C]\n",
      "parental_level_of_education    [high school, some high school, associate's de...\n",
      "lunch                                                   [free/reduced, standard]\n",
      "test_preparation_course                                        [completed, none]\n",
      "dtype: object\n"
     ]
    }
   ],
   "source": [
    "# Check the unique values in each categorical column\n",
    "unique_values = final_synthetic_data[categorical_cols].apply(lambda col: col.unique())\n",
    "\n",
    "# Print the result\n",
    "print(unique_values)\n"
   ]
  },
  {
   "cell_type": "code",
   "execution_count": 53,
   "metadata": {},
   "outputs": [
    {
     "data": {
      "text/html": [
       "<div>\n",
       "<style scoped>\n",
       "    .dataframe tbody tr th:only-of-type {\n",
       "        vertical-align: middle;\n",
       "    }\n",
       "\n",
       "    .dataframe tbody tr th {\n",
       "        vertical-align: top;\n",
       "    }\n",
       "\n",
       "    .dataframe thead th {\n",
       "        text-align: right;\n",
       "    }\n",
       "</style>\n",
       "<table border=\"1\" class=\"dataframe\">\n",
       "  <thead>\n",
       "    <tr style=\"text-align: right;\">\n",
       "      <th></th>\n",
       "      <th>gender</th>\n",
       "      <th>race_ethnicity</th>\n",
       "      <th>parental_level_of_education</th>\n",
       "      <th>lunch</th>\n",
       "      <th>test_preparation_course</th>\n",
       "      <th>math_score</th>\n",
       "      <th>reading_score</th>\n",
       "      <th>writing_score</th>\n",
       "    </tr>\n",
       "  </thead>\n",
       "  <tbody>\n",
       "    <tr>\n",
       "      <th>0</th>\n",
       "      <td>male</td>\n",
       "      <td>group E</td>\n",
       "      <td>high school</td>\n",
       "      <td>free/reduced</td>\n",
       "      <td>completed</td>\n",
       "      <td>36.942575</td>\n",
       "      <td>80.266713</td>\n",
       "      <td>56.328945</td>\n",
       "    </tr>\n",
       "    <tr>\n",
       "      <th>1</th>\n",
       "      <td>male</td>\n",
       "      <td>group E</td>\n",
       "      <td>high school</td>\n",
       "      <td>free/reduced</td>\n",
       "      <td>completed</td>\n",
       "      <td>27.759261</td>\n",
       "      <td>70.359187</td>\n",
       "      <td>65.115238</td>\n",
       "    </tr>\n",
       "    <tr>\n",
       "      <th>2</th>\n",
       "      <td>male</td>\n",
       "      <td>group E</td>\n",
       "      <td>high school</td>\n",
       "      <td>free/reduced</td>\n",
       "      <td>completed</td>\n",
       "      <td>48.961313</td>\n",
       "      <td>63.169485</td>\n",
       "      <td>55.873525</td>\n",
       "    </tr>\n",
       "    <tr>\n",
       "      <th>3</th>\n",
       "      <td>male</td>\n",
       "      <td>group E</td>\n",
       "      <td>high school</td>\n",
       "      <td>free/reduced</td>\n",
       "      <td>completed</td>\n",
       "      <td>56.883893</td>\n",
       "      <td>93.206217</td>\n",
       "      <td>52.575701</td>\n",
       "    </tr>\n",
       "    <tr>\n",
       "      <th>4</th>\n",
       "      <td>male</td>\n",
       "      <td>group E</td>\n",
       "      <td>high school</td>\n",
       "      <td>free/reduced</td>\n",
       "      <td>completed</td>\n",
       "      <td>55.455512</td>\n",
       "      <td>59.896871</td>\n",
       "      <td>49.463304</td>\n",
       "    </tr>\n",
       "    <tr>\n",
       "      <th>...</th>\n",
       "      <td>...</td>\n",
       "      <td>...</td>\n",
       "      <td>...</td>\n",
       "      <td>...</td>\n",
       "      <td>...</td>\n",
       "      <td>...</td>\n",
       "      <td>...</td>\n",
       "      <td>...</td>\n",
       "    </tr>\n",
       "    <tr>\n",
       "      <th>20995</th>\n",
       "      <td>female</td>\n",
       "      <td>group D</td>\n",
       "      <td>master's degree</td>\n",
       "      <td>standard</td>\n",
       "      <td>none</td>\n",
       "      <td>68.527928</td>\n",
       "      <td>72.000000</td>\n",
       "      <td>81.068403</td>\n",
       "    </tr>\n",
       "    <tr>\n",
       "      <th>20996</th>\n",
       "      <td>female</td>\n",
       "      <td>group D</td>\n",
       "      <td>master's degree</td>\n",
       "      <td>standard</td>\n",
       "      <td>none</td>\n",
       "      <td>86.061210</td>\n",
       "      <td>77.112421</td>\n",
       "      <td>38.000000</td>\n",
       "    </tr>\n",
       "    <tr>\n",
       "      <th>20997</th>\n",
       "      <td>female</td>\n",
       "      <td>group D</td>\n",
       "      <td>master's degree</td>\n",
       "      <td>standard</td>\n",
       "      <td>none</td>\n",
       "      <td>87.000000</td>\n",
       "      <td>76.020294</td>\n",
       "      <td>96.809275</td>\n",
       "    </tr>\n",
       "    <tr>\n",
       "      <th>20998</th>\n",
       "      <td>female</td>\n",
       "      <td>group D</td>\n",
       "      <td>master's degree</td>\n",
       "      <td>standard</td>\n",
       "      <td>none</td>\n",
       "      <td>45.088968</td>\n",
       "      <td>66.457196</td>\n",
       "      <td>46.866869</td>\n",
       "    </tr>\n",
       "    <tr>\n",
       "      <th>20999</th>\n",
       "      <td>female</td>\n",
       "      <td>group D</td>\n",
       "      <td>master's degree</td>\n",
       "      <td>standard</td>\n",
       "      <td>none</td>\n",
       "      <td>78.000000</td>\n",
       "      <td>82.127224</td>\n",
       "      <td>16.386399</td>\n",
       "    </tr>\n",
       "  </tbody>\n",
       "</table>\n",
       "<p>21000 rows × 8 columns</p>\n",
       "</div>"
      ],
      "text/plain": [
       "       gender race_ethnicity parental_level_of_education         lunch  \\\n",
       "0        male        group E                 high school  free/reduced   \n",
       "1        male        group E                 high school  free/reduced   \n",
       "2        male        group E                 high school  free/reduced   \n",
       "3        male        group E                 high school  free/reduced   \n",
       "4        male        group E                 high school  free/reduced   \n",
       "...       ...            ...                         ...           ...   \n",
       "20995  female        group D             master's degree      standard   \n",
       "20996  female        group D             master's degree      standard   \n",
       "20997  female        group D             master's degree      standard   \n",
       "20998  female        group D             master's degree      standard   \n",
       "20999  female        group D             master's degree      standard   \n",
       "\n",
       "      test_preparation_course  math_score  reading_score  writing_score  \n",
       "0                   completed   36.942575      80.266713      56.328945  \n",
       "1                   completed   27.759261      70.359187      65.115238  \n",
       "2                   completed   48.961313      63.169485      55.873525  \n",
       "3                   completed   56.883893      93.206217      52.575701  \n",
       "4                   completed   55.455512      59.896871      49.463304  \n",
       "...                       ...         ...            ...            ...  \n",
       "20995                    none   68.527928      72.000000      81.068403  \n",
       "20996                    none   86.061210      77.112421      38.000000  \n",
       "20997                    none   87.000000      76.020294      96.809275  \n",
       "20998                    none   45.088968      66.457196      46.866869  \n",
       "20999                    none   78.000000      82.127224      16.386399  \n",
       "\n",
       "[21000 rows x 8 columns]"
      ]
     },
     "execution_count": 53,
     "metadata": {},
     "output_type": "execute_result"
    }
   ],
   "source": [
    "final_synthetic_data"
   ]
  },
  {
   "cell_type": "code",
   "execution_count": 54,
   "metadata": {},
   "outputs": [
    {
     "name": "stdout",
     "output_type": "stream",
     "text": [
      "   gender race_ethnicity parental_level_of_education         lunch  \\\n",
      "0  female        group B           bachelor's degree      standard   \n",
      "1  female        group C                some college      standard   \n",
      "2  female        group B             master's degree      standard   \n",
      "3    male        group A          associate's degree  free/reduced   \n",
      "4    male        group C                some college      standard   \n",
      "\n",
      "  test_preparation_course  math_score  reading_score  writing_score  \n",
      "0                    none        72.0           72.0           74.0  \n",
      "1               completed        69.0           90.0           88.0  \n",
      "2                    none        90.0           95.0           93.0  \n",
      "3                    none        47.0           57.0           44.0  \n",
      "4                    none        76.0           78.0           75.0  \n"
     ]
    }
   ],
   "source": [
    "# Concatenate the original dataset with the final synthetic dataset\n",
    "final_synthetic_data_with_original = pd.concat([df, final_synthetic_data], axis=0)\n",
    "\n",
    "# Reset index (optional, but helpful for keeping things organized)\n",
    "final_synthetic_data_with_original.reset_index(drop=True, inplace=True)\n",
    "\n",
    "# Display the combined dataset\n",
    "print(final_synthetic_data_with_original.head())\n"
   ]
  },
  {
   "cell_type": "code",
   "execution_count": 55,
   "metadata": {},
   "outputs": [
    {
     "data": {
      "text/plain": [
       "(22000, 8)"
      ]
     },
     "execution_count": 55,
     "metadata": {},
     "output_type": "execute_result"
    }
   ],
   "source": [
    "final_synthetic_data_with_original.shape"
   ]
  },
  {
   "cell_type": "code",
   "execution_count": 56,
   "metadata": {},
   "outputs": [
    {
     "name": "stdout",
     "output_type": "stream",
     "text": [
      "       gender race_ethnicity parental_level_of_education         lunch  \\\n",
      "13035  female        group E                 high school      standard   \n",
      "3115     male        group A                 high school  free/reduced   \n",
      "8732   female        group C          associate's degree  free/reduced   \n",
      "7591   female        group B                some college  free/reduced   \n",
      "221      male        group B          associate's degree      standard   \n",
      "\n",
      "      test_preparation_course  math_score  reading_score  writing_score  \n",
      "13035                    none  107.447644      92.693613      76.389010  \n",
      "3115                completed   64.481594      77.269901      81.188755  \n",
      "8732                completed   57.702255     103.857337      69.146261  \n",
      "7591                completed   81.673020      73.885831      53.468732  \n",
      "221                      none   87.000000      85.000000      73.000000  \n"
     ]
    }
   ],
   "source": [
    "from sklearn.utils import shuffle\n",
    "\n",
    "# Shuffle the combined dataset\n",
    "final_shuffled_data = shuffle(final_synthetic_data_with_original, random_state=42)\n",
    "\n",
    "# Display the shuffled dataset\n",
    "print(final_shuffled_data.head())\n"
   ]
  },
  {
   "cell_type": "code",
   "execution_count": 57,
   "metadata": {},
   "outputs": [],
   "source": [
    "final_shuffled_data.to_csv('data/stud.csv')"
   ]
  },
  {
   "cell_type": "code",
   "execution_count": 58,
   "metadata": {},
   "outputs": [],
   "source": [
    "df1=pd.read_csv('data/stud1.csv')"
   ]
  },
  {
   "cell_type": "code",
   "execution_count": 63,
   "metadata": {},
   "outputs": [
    {
     "data": {
      "text/plain": [
       "gender\n",
       "female    518\n",
       "male      482\n",
       "Name: count, dtype: int64"
      ]
     },
     "execution_count": 63,
     "metadata": {},
     "output_type": "execute_result"
    }
   ],
   "source": [
    "df1['gender'].value_counts()"
   ]
  },
  {
   "cell_type": "code",
   "execution_count": 64,
   "metadata": {},
   "outputs": [
    {
     "data": {
      "text/plain": [
       "parental_level_of_education\n",
       "some college          226\n",
       "associate's degree    222\n",
       "high school           196\n",
       "some high school      179\n",
       "bachelor's degree     118\n",
       "master's degree        59\n",
       "Name: count, dtype: int64"
      ]
     },
     "execution_count": 64,
     "metadata": {},
     "output_type": "execute_result"
    }
   ],
   "source": [
    "df1['parental_level_of_education'].value_counts()"
   ]
  },
  {
   "cell_type": "code",
   "execution_count": null,
   "metadata": {},
   "outputs": [],
   "source": []
  }
 ],
 "metadata": {
  "kernelspec": {
   "display_name": "venv",
   "language": "python",
   "name": "python3"
  },
  "language_info": {
   "codemirror_mode": {
    "name": "ipython",
    "version": 3
   },
   "file_extension": ".py",
   "mimetype": "text/x-python",
   "name": "python",
   "nbconvert_exporter": "python",
   "pygments_lexer": "ipython3",
   "version": "3.10.16"
  }
 },
 "nbformat": 4,
 "nbformat_minor": 2
}
