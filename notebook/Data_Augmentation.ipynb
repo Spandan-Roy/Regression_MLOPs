{
 "cells": [
  {
   "cell_type": "code",
   "execution_count": 1,
   "metadata": {},
   "outputs": [],
   "source": [
    "import pandas as pd\n",
    "import numpy as np\n",
    "df=pd.read_csv('data/stud1.csv')\n",
    "\n",
    "# Function to augment numeric scores by +/- 3 and clip between 0 and 100\n",
    "def augment_scores(df, num_augmentations=3000):\n",
    "    augmented_data = []\n",
    "\n",
    "    for _ in range(num_augmentations):\n",
    "        augmented_row = df.sample(1).copy()  # Select a random row from original data\n",
    "\n",
    "        # Augment numeric columns by adding random noise between -3 and +3\n",
    "        for col in ['math_score', 'reading_score', 'writing_score']:\n",
    "            noise = np.random.randint(-3, 4)  # Random noise between -3 and 3\n",
    "            augmented_row[col] = np.clip(augmented_row[col].values[0] + noise, 0, 100)\n",
    "\n",
    "        # Categorical columns remain unchanged, but you can also add noise if needed\n",
    "        augmented_data.append(augmented_row)\n",
    "\n",
    "    # Combine the original data with augmented data\n",
    "    augmented_df = pd.concat(augmented_data, ignore_index=True)\n",
    "    return augmented_df\n",
    "\n",
    "# Example usage: Assume df is your original dataframe\n",
    "augmented_df = augment_scores(df, num_augmentations=3000)\n",
    "\n",
    "# Now augmented_df contains the original data + 3000 new rows\n"
   ]
  },
  {
   "cell_type": "code",
   "execution_count": 4,
   "metadata": {},
   "outputs": [],
   "source": [
    "# Combine the original dataset with the augmented dataset\n",
    "final_df = pd.concat([df, augmented_df], ignore_index=True)\n"
   ]
  },
  {
   "cell_type": "code",
   "execution_count": 5,
   "metadata": {},
   "outputs": [],
   "source": [
    "final_df.to_csv('stud_new.csv')"
   ]
  },
  {
   "cell_type": "code",
   "execution_count": 7,
   "metadata": {},
   "outputs": [
    {
     "data": {
      "text/html": [
       "<div>\n",
       "<style scoped>\n",
       "    .dataframe tbody tr th:only-of-type {\n",
       "        vertical-align: middle;\n",
       "    }\n",
       "\n",
       "    .dataframe tbody tr th {\n",
       "        vertical-align: top;\n",
       "    }\n",
       "\n",
       "    .dataframe thead th {\n",
       "        text-align: right;\n",
       "    }\n",
       "</style>\n",
       "<table border=\"1\" class=\"dataframe\">\n",
       "  <thead>\n",
       "    <tr style=\"text-align: right;\">\n",
       "      <th></th>\n",
       "      <th>gender</th>\n",
       "      <th>race_ethnicity</th>\n",
       "      <th>parental_level_of_education</th>\n",
       "      <th>lunch</th>\n",
       "      <th>test_preparation_course</th>\n",
       "      <th>math_score</th>\n",
       "      <th>reading_score</th>\n",
       "      <th>writing_score</th>\n",
       "    </tr>\n",
       "  </thead>\n",
       "  <tbody>\n",
       "    <tr>\n",
       "      <th>0</th>\n",
       "      <td>female</td>\n",
       "      <td>group B</td>\n",
       "      <td>bachelor's degree</td>\n",
       "      <td>standard</td>\n",
       "      <td>none</td>\n",
       "      <td>72</td>\n",
       "      <td>72</td>\n",
       "      <td>74</td>\n",
       "    </tr>\n",
       "    <tr>\n",
       "      <th>1</th>\n",
       "      <td>female</td>\n",
       "      <td>group C</td>\n",
       "      <td>some college</td>\n",
       "      <td>standard</td>\n",
       "      <td>completed</td>\n",
       "      <td>69</td>\n",
       "      <td>90</td>\n",
       "      <td>88</td>\n",
       "    </tr>\n",
       "    <tr>\n",
       "      <th>2</th>\n",
       "      <td>female</td>\n",
       "      <td>group B</td>\n",
       "      <td>master's degree</td>\n",
       "      <td>standard</td>\n",
       "      <td>none</td>\n",
       "      <td>90</td>\n",
       "      <td>95</td>\n",
       "      <td>93</td>\n",
       "    </tr>\n",
       "    <tr>\n",
       "      <th>3</th>\n",
       "      <td>male</td>\n",
       "      <td>group A</td>\n",
       "      <td>associate's degree</td>\n",
       "      <td>free/reduced</td>\n",
       "      <td>none</td>\n",
       "      <td>47</td>\n",
       "      <td>57</td>\n",
       "      <td>44</td>\n",
       "    </tr>\n",
       "    <tr>\n",
       "      <th>4</th>\n",
       "      <td>male</td>\n",
       "      <td>group C</td>\n",
       "      <td>some college</td>\n",
       "      <td>standard</td>\n",
       "      <td>none</td>\n",
       "      <td>76</td>\n",
       "      <td>78</td>\n",
       "      <td>75</td>\n",
       "    </tr>\n",
       "  </tbody>\n",
       "</table>\n",
       "</div>"
      ],
      "text/plain": [
       "   gender race_ethnicity parental_level_of_education         lunch  \\\n",
       "0  female        group B           bachelor's degree      standard   \n",
       "1  female        group C                some college      standard   \n",
       "2  female        group B             master's degree      standard   \n",
       "3    male        group A          associate's degree  free/reduced   \n",
       "4    male        group C                some college      standard   \n",
       "\n",
       "  test_preparation_course  math_score  reading_score  writing_score  \n",
       "0                    none          72             72             74  \n",
       "1               completed          69             90             88  \n",
       "2                    none          90             95             93  \n",
       "3                    none          47             57             44  \n",
       "4                    none          76             78             75  "
      ]
     },
     "execution_count": 7,
     "metadata": {},
     "output_type": "execute_result"
    }
   ],
   "source": [
    "final_df.head()"
   ]
  },
  {
   "cell_type": "code",
   "execution_count": 9,
   "metadata": {},
   "outputs": [],
   "source": [
    "import numpy as np\n",
    "\n",
    "# Function to augment continuous scores\n",
    "def augment_scores(df, noise_range=(-1, 1)):\n",
    "    augmented_df = df.copy()\n",
    "\n",
    "    # Add random noise to the numeric scores columns\n",
    "    for col in ['math_score', 'reading_score', 'writing_score']:\n",
    "        noise = np.random.randint(noise_range[0], noise_range[1], size=df[col].shape)\n",
    "        augmented_df[col] = np.clip(augmented_df[col] + noise, 0, 100)\n",
    "\n",
    "    return augmented_df\n"
   ]
  },
  {
   "cell_type": "code",
   "execution_count": 10,
   "metadata": {},
   "outputs": [],
   "source": [
    "import pandas as pd\n",
    "import numpy as np\n",
    "\n",
    "# Function to augment categorical features\n",
    "def augment_categoricals(df):\n",
    "    augmented_df = df.copy()\n",
    "\n",
    "    # Randomly shuffle categorical features\n",
    "    for col in ['lunch', 'test_preparation_course', 'gender', 'race_ethnicity', 'parental_level_of_education']:\n",
    "        augmented_df[col] = np.random.choice(df[col], size=len(df))\n",
    "\n",
    "    return augmented_df\n"
   ]
  },
  {
   "cell_type": "code",
   "execution_count": 11,
   "metadata": {},
   "outputs": [],
   "source": [
    "def generate_augmented_data(df, num_augmentations=3000):\n",
    "    augmented_data = []\n",
    "\n",
    "    for _ in range(num_augmentations):\n",
    "        # Randomly sample a row from the original data\n",
    "        augmented_row = df.sample(1).copy()\n",
    "\n",
    "        # Augment continuous features (scores) with noise\n",
    "        augmented_row = augment_scores(augmented_row)\n",
    "\n",
    "        # Augment categorical features by random sampling\n",
    "        augmented_row = augment_categoricals(augmented_row)\n",
    "\n",
    "        augmented_data.append(augmented_row)\n",
    "\n",
    "    # Combine the augmented data into a new dataframe\n",
    "    augmented_df = pd.concat(augmented_data, ignore_index=True)\n",
    "    return augmented_df\n",
    "\n",
    "# Example usage: Augment original data with 3000 new rows\n",
    "augmented_df = generate_augmented_data(df, num_augmentations=3000)\n",
    "\n",
    "# Combine with the original data\n",
    "final_df = pd.concat([df, augmented_df], ignore_index=True)\n"
   ]
  },
  {
   "cell_type": "code",
   "execution_count": 12,
   "metadata": {},
   "outputs": [
    {
     "data": {
      "text/plain": [
       "(4000, 8)"
      ]
     },
     "execution_count": 12,
     "metadata": {},
     "output_type": "execute_result"
    }
   ],
   "source": [
    "final_df.shape"
   ]
  },
  {
   "cell_type": "code",
   "execution_count": 13,
   "metadata": {},
   "outputs": [],
   "source": [
    "final_df.to_csv('stud_new.csv')"
   ]
  },
  {
   "cell_type": "code",
   "execution_count": null,
   "metadata": {},
   "outputs": [],
   "source": []
  }
 ],
 "metadata": {
  "kernelspec": {
   "display_name": "venv",
   "language": "python",
   "name": "python3"
  },
  "language_info": {
   "codemirror_mode": {
    "name": "ipython",
    "version": 3
   },
   "file_extension": ".py",
   "mimetype": "text/x-python",
   "name": "python",
   "nbconvert_exporter": "python",
   "pygments_lexer": "ipython3",
   "version": "3.10.16"
  }
 },
 "nbformat": 4,
 "nbformat_minor": 2
}
